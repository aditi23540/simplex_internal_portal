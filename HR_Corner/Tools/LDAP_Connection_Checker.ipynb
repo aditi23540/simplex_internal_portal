{
 "cells": [
  {
   "cell_type": "code",
   "execution_count": 4,
   "id": "f8d1cbdf",
   "metadata": {},
   "outputs": [
    {
     "name": "stdout",
     "output_type": "stream",
     "text": [
      "✅ Authentication successful. Employee Code: 202589\n"
     ]
    }
   ],
   "source": [
    "from ldap3 import Server, Connection, NTLM, ALL\n",
    "from ldap3.core.exceptions import LDAPException, LDAPBindError\n",
    "\n",
    "def authenticate_and_get_empcode(username, password):\n",
    "    domain = 'simplexengg.in'\n",
    "    server_address = 'ldap://simplexengg.in'\n",
    "    base_dn = 'DC=simplexengg,DC=in'  # Update if your LDAP base DN is different\n",
    "    full_username = f'{domain}\\\\{username}'\n",
    "\n",
    "    try:\n",
    "        # Connect and authenticate\n",
    "        server = Server(server_address, get_info=ALL)\n",
    "        conn = Connection(server, user=full_username, password=password, authentication=NTLM, auto_bind=True)\n",
    "        \n",
    "        # Search for the user to get employeeID\n",
    "        search_filter = f'(sAMAccountName={username})'\n",
    "        conn.search(search_base=base_dn, search_filter=search_filter, attributes=['employeeID'])\n",
    "\n",
    "        if conn.entries:\n",
    "            empcode = conn.entries[0].employeeID.value\n",
    "            conn.unbind()\n",
    "            return empcode\n",
    "        else:\n",
    "            conn.unbind()\n",
    "            return None\n",
    "\n",
    "    except LDAPBindError:\n",
    "        print(\"❌ Authentication failed. Invalid credentials.\")\n",
    "        return None\n",
    "    except LDAPException as e:\n",
    "        print(f\"⚠️ LDAP error: {e}\")\n",
    "        return None\n",
    "\n",
    "if __name__ == \"__main__\":\n",
    "    username = input(\"Enter your username: \")\n",
    "    password =  input(\"Enter your password: \")    \n",
    "   \n",
    "\n",
    "    empcode = authenticate_and_get_empcode(username, password)\n",
    "    if empcode:\n",
    "        print(f\"✅ Authentication successful. Employee Code: {empcode}\")\n",
    "    else:\n",
    "        print(\"❌ Authentication failed or employee code not found.\")\n"
   ]
  }
 ],
 "metadata": {
  "kernelspec": {
   "display_name": "Python 3",
   "language": "python",
   "name": "python3"
  },
  "language_info": {
   "codemirror_mode": {
    "name": "ipython",
    "version": 3
   },
   "file_extension": ".py",
   "mimetype": "text/x-python",
   "name": "python",
   "nbconvert_exporter": "python",
   "pygments_lexer": "ipython3",
   "version": "3.13.5"
  }
 },
 "nbformat": 4,
 "nbformat_minor": 5
}
